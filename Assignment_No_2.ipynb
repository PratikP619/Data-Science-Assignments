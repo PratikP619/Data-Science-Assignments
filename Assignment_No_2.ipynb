{
  "nbformat": 4,
  "nbformat_minor": 0,
  "metadata": {
    "colab": {
      "provenance": []
    },
    "kernelspec": {
      "name": "python3",
      "display_name": "Python 3"
    },
    "language_info": {
      "name": "python"
    }
  },
  "cells": [
    {
      "cell_type": "markdown",
      "source": [
        "# **Assignment 2-Set 1_Descriptive statistics+Probability**"
      ],
      "metadata": {
        "id": "vQwG9NxMWQGo"
      }
    },
    {
      "cell_type": "markdown",
      "source": [
        "**Q1- Look at the data given below. Plot the data, find the outliers and find out  μ,σ,σ^2**"
      ],
      "metadata": {
        "id": "8jBGM96_5s_n"
      }
    },
    {
      "cell_type": "code",
      "source": [
        "# importing libraries\n",
        "\n",
        "import pandas as pd\n",
        "import numpy as np\n",
        "import matplotlib.pyplot as plt\n",
        "import scipy.stats as stats\n",
        "import seaborn as sns"
      ],
      "metadata": {
        "id": "duxchtgJWYfF"
      },
      "execution_count": null,
      "outputs": []
    },
    {
      "cell_type": "code",
      "source": [
        "# Importing dataset\n",
        "\n",
        "Measure_x = pd.Series([24.23,25.53,25.41,24.14,29.62,28.25,25.81,24.39,40.26,32.95,91.36,25.99,39.42,26.71,35.00])\n",
        "Name_of_company = ['Allied Signal','Bankers Trust','General Mills','ITT Industries','J.P.Morgan & Co.','Lehman Brothers',\n",
        "      'Marriott','MCI','Merrill Lynch','Microsoft','Morgan Stanley','Sun Microsystems','Travelers','US Airways',\n",
        "      'Warner-Lambert']"
      ],
      "metadata": {
        "id": "RH411V4GWWwn"
      },
      "execution_count": null,
      "outputs": []
    },
    {
      "cell_type": "code",
      "source": [
        "#Checking description\n",
        "\n",
        "Measure_x.describe()"
      ],
      "metadata": {
        "colab": {
          "base_uri": "https://localhost:8080/"
        },
        "id": "DVc5IotVqtvo",
        "outputId": "6cb98a5d-f3a2-4b37-e136-57e47aa8ec47"
      },
      "execution_count": null,
      "outputs": [
        {
          "output_type": "execute_result",
          "data": {
            "text/plain": [
              "count    15.000000\n",
              "mean     33.271333\n",
              "std      16.945401\n",
              "min      24.140000\n",
              "25%      25.470000\n",
              "50%      26.710000\n",
              "75%      33.975000\n",
              "max      91.360000\n",
              "dtype: float64"
            ]
          },
          "metadata": {},
          "execution_count": 31
        }
      ]
    },
    {
      "cell_type": "code",
      "source": [
        "# Finding mean\n",
        "\n",
        "Measure_x.mean()"
      ],
      "metadata": {
        "colab": {
          "base_uri": "https://localhost:8080/"
        },
        "id": "Q85P5vnPmJG_",
        "outputId": "088aca12-e0c0-4bd2-ec17-d3f501c2fb53"
      },
      "execution_count": null,
      "outputs": [
        {
          "output_type": "execute_result",
          "data": {
            "text/plain": [
              "33.27133333333333"
            ]
          },
          "metadata": {},
          "execution_count": 28
        }
      ]
    },
    {
      "cell_type": "code",
      "source": [
        "# Standard deviation\n",
        "\n",
        "Measure_x.std()"
      ],
      "metadata": {
        "colab": {
          "base_uri": "https://localhost:8080/"
        },
        "id": "ml_PEKsnmJLz",
        "outputId": "13efc0be-4d10-4461-a34a-3f0e4f6f2049"
      },
      "execution_count": null,
      "outputs": [
        {
          "output_type": "execute_result",
          "data": {
            "text/plain": [
              "16.945400921222028"
            ]
          },
          "metadata": {},
          "execution_count": 29
        }
      ]
    },
    {
      "cell_type": "code",
      "source": [
        "#Variation\n",
        "\n",
        "Measure_x.var()"
      ],
      "metadata": {
        "colab": {
          "base_uri": "https://localhost:8080/"
        },
        "id": "8MIb9B88mJOj",
        "outputId": "eaac6f6b-3e37-4b80-d47b-3a8da07ccd16"
      },
      "execution_count": null,
      "outputs": [
        {
          "output_type": "execute_result",
          "data": {
            "text/plain": [
              "287.1466123809524"
            ]
          },
          "metadata": {},
          "execution_count": 30
        }
      ]
    },
    {
      "cell_type": "markdown",
      "source": [
        "**Answer:**\n",
        "Mew=33.27133333333333\n",
        "Std Deviatio= 16.945400921222028\n",
        "Variance= 287.1466123809524\n"
      ],
      "metadata": {
        "id": "QvslRNMNO-Fh"
      }
    },
    {
      "cell_type": "code",
      "source": [
        "#Plotting the box plot\n",
        "\n",
        "plt.boxplot(Measure_x,vert=False )\n",
        "plt.show()"
      ],
      "metadata": {
        "colab": {
          "base_uri": "https://localhost:8080/",
          "height": 430
        },
        "id": "Ydk1beTnqsS-",
        "outputId": "728a2143-6d84-4a82-fa8a-5c7f867f63a0"
      },
      "execution_count": null,
      "outputs": [
        {
          "output_type": "display_data",
          "data": {
            "text/plain": [
              "<Figure size 640x480 with 1 Axes>"
            ],
            "image/png": "[encoded data removed]"
          },
          "metadata": {}
        }
      ]
    },
    {
      "cell_type": "markdown",
      "source": [
        "Q2\n",
        "(i)\tWhat is inter-quartile range of this dataset? (please approximate the numbers) In one line, explain what this value implies.\n",
        "\n",
        "**Answer**: 1st quartile range is 5, 3rd quartile is 12 and median is 7.\n",
        "internal quartile = Q3-Q1,\n",
        "internal quartile =12-5 =7\n",
        "\n"
      ],
      "metadata": {
        "id": "qVEtei5Y17Dx"
      }
    },
    {
      "cell_type": "markdown",
      "source": [
        "Q2 (ii)- What can we say about the skewness of this dataset?\n",
        "\n",
        "**Answer**: It shows the median is towards the right side and the data is not normally distributed.\n"
      ],
      "metadata": {
        "id": "9DLuEs222GnK"
      }
    },
    {
      "cell_type": "markdown",
      "source": [
        "Q2(iii)- If it was found that the data point with the value 25 is actually 2.5, how would the new box-plot be affected?\n",
        "\n",
        "**Answer** - In this case there will be no outlier and also the interquartile  value will change."
      ],
      "metadata": {
        "id": "Uu4c3MzM3sME"
      }
    },
    {
      "cell_type": "markdown",
      "source": [
        "Q3 (i)-\tWhere would the mode of this dataset lie?\n",
        "\n",
        "**Answer**: mode will be approximately between 4-8."
      ],
      "metadata": {
        "id": "kyCQh_-u7Teq"
      }
    },
    {
      "cell_type": "markdown",
      "source": [
        "Q3 (ii)-Comment on the skewness of the dataset.\n",
        "\n",
        "\n",
        "**Answer**: The data is right skewed"
      ],
      "metadata": {
        "id": "Ibaxl5rz7miq"
      }
    },
    {
      "cell_type": "markdown",
      "source": [
        "Q3- (iii)\tSuppose that the above histogram and the box-plot in question 2 are plotted for the same dataset. Explain how these graphs complement each other in providing information about any dataset.\n",
        "\n",
        "**Answer**: Both the data is right skewed  and the same outlier at 25."
      ],
      "metadata": {
        "id": "nlK4suGb73Jr"
      }
    },
    {
      "cell_type": "markdown",
      "source": [
        "Q4.\tAT&T was running commercials in 1990 aimed at luring back customers who had switched to one of the other long-distance phone service providers. One such commercial shows a businessman trying to reach Phoenix and mistakenly getting Fiji, where a half-naked native on a beach responds incomprehensibly in Polynesian. When asked about this advertisement, AT&T admitted that the portrayed incident did not actually take place but added that this was an enactment of something that “could happen.” Suppose that one in 200 long-distance telephone calls is misdirected. What is the probability that at least one in five attempted telephone calls reaches the wrong number? (Assume independence of attempts.)"
      ],
      "metadata": {
        "id": "GLAp-pneAdSn"
      }
    },
    {
      "cell_type": "code",
      "source": [
        "# Probability of a single call being misdirected\n",
        "misdirection_prob = 1/200"
      ],
      "metadata": {
        "id": "eHK4XYLkuir1"
      },
      "execution_count": null,
      "outputs": []
    },
    {
      "cell_type": "code",
      "source": [
        "# Number of attempted calls\n",
        "num_calls = 5"
      ],
      "metadata": {
        "id": "b--r-eaLwi6d"
      },
      "execution_count": null,
      "outputs": []
    },
    {
      "cell_type": "code",
      "source": [
        "# Calculating the probability of all calls being correctly directed\n",
        "all_correct_prob = (1 - misdirection_prob) ** num_calls\n",
        "all_correct_prob"
      ],
      "metadata": {
        "colab": {
          "base_uri": "https://localhost:8080/"
        },
        "id": "EmAJGh-Fwi9b",
        "outputId": "4fc3c1cb-67f1-4fd4-b444-2513486473db"
      },
      "execution_count": null,
      "outputs": [
        {
          "output_type": "execute_result",
          "data": {
            "text/plain": [
              "0.975248753121875"
            ]
          },
          "metadata": {},
          "execution_count": 11
        }
      ]
    },
    {
      "cell_type": "code",
      "source": [
        "# Calculate the probability of at least one misdirected call using complementary probability\n",
        "at_least_one_misdirected_prob = 1 - all_correct_prob"
      ],
      "metadata": {
        "id": "gViCF27JwjBK"
      },
      "execution_count": null,
      "outputs": []
    },
    {
      "cell_type": "code",
      "source": [
        "print(\"Probability of at least one misdirected call:\", at_least_one_misdirected_prob)"
      ],
      "metadata": {
        "colab": {
          "base_uri": "https://localhost:8080/"
        },
        "id": "T_etBymPuiux",
        "outputId": "de1208a2-3e78-4f98-d3d5-56d68872557a"
      },
      "execution_count": null,
      "outputs": [
        {
          "output_type": "stream",
          "name": "stdout",
          "text": [
            "Probability of at least one misdirected call: 0.02475124687812502\n"
          ]
        }
      ]
    },
    {
      "cell_type": "code",
      "source": [
        "# Q3-(iii)\tWhat is the long-term average earning of business ventures of this kind? Explain\n",
        "x=(-2000 * 0.1) + (-1000 * 0.1) + (0 * 0.2) + (1000 * 0.2) + (2000 * 0.3) + (3000 * 0.1)\n",
        "x"
      ],
      "metadata": {
        "colab": {
          "base_uri": "https://localhost:8080/"
        },
        "id": "4kgZOsyE37no",
        "outputId": "84ac4330-0b4b-4a4f-9845-1a89dca5e465"
      },
      "execution_count": null,
      "outputs": [
        {
          "output_type": "execute_result",
          "data": {
            "text/plain": [
              "800.0"
            ]
          },
          "metadata": {},
          "execution_count": 15
        }
      ]
    },
    {
      "cell_type": "markdown",
      "source": [
        "Q5-"
      ],
      "metadata": {
        "id": "Zkme6bPwSqLD"
      }
    },
    {
      "cell_type": "code",
      "source": [
        "x=pd.Series([-200,-1000,0,1000,2000,3000])"
      ],
      "metadata": {
        "id": "pd-NsBQ-RDe8"
      },
      "execution_count": null,
      "outputs": []
    },
    {
      "cell_type": "code",
      "source": [
        "# Standard deviation\n",
        "\n",
        "x.std()"
      ],
      "metadata": {
        "colab": {
          "base_uri": "https://localhost:8080/"
        },
        "id": "3iO0zpe1RDj4",
        "outputId": "e643a624-0855-4660-90cf-479b2fab5ad3"
      },
      "execution_count": null,
      "outputs": [
        {
          "output_type": "execute_result",
          "data": {
            "text/plain": [
              "1496.6629547095765"
            ]
          },
          "metadata": {},
          "execution_count": 10
        }
      ]
    },
    {
      "cell_type": "code",
      "source": [
        "# Variation\n",
        "\n",
        "x.var()"
      ],
      "metadata": {
        "colab": {
          "base_uri": "https://localhost:8080/"
        },
        "id": "8eJ2abpaSJ45",
        "outputId": "09e659f0-a353-4abe-aa7c-6240cfbfc3c7"
      },
      "execution_count": null,
      "outputs": [
        {
          "output_type": "execute_result",
          "data": {
            "text/plain": [
              "2240000.0"
            ]
          },
          "metadata": {},
          "execution_count": 12
        }
      ]
    },
    {
      "cell_type": "code",
      "source": [
        "# means\n",
        "x.mean()"
      ],
      "metadata": {
        "colab": {
          "base_uri": "https://localhost:8080/"
        },
        "id": "9RvqxSYASJ8u",
        "outputId": "dcbde6a2-999a-46b5-e5e6-2d9f9e39a47f"
      },
      "execution_count": null,
      "outputs": [
        {
          "output_type": "execute_result",
          "data": {
            "text/plain": [
              "800.0"
            ]
          },
          "metadata": {},
          "execution_count": 13
        }
      ]
    },
    {
      "cell_type": "markdown",
      "source": [
        "**Answer**: The standard deviation of the returns is 1496.6629547095765 the large value of standard deviation considered along with the average returns of $800 indicates that this venture is highly risky."
      ],
      "metadata": {
        "id": "zoxca_txSsez"
      }
    },
    {
      "cell_type": "markdown",
      "source": [
        "# **Assignment 2-Set 2_Normal Distribution+Functions of random**"
      ],
      "metadata": {
        "id": "UoBJRih7BnvZ"
      }
    },
    {
      "cell_type": "markdown",
      "source": [
        "Q1.\tThe time required for servicing transmissions is normally distributed with  = 45 minutes and  = 8 minutes. The service manager plans to have work begin on the transmission of a customer’s car 10 minutes after the car is dropped off and the customer is told that the car will be ready within 1 hour from drop-off. What is the probability that the service manager cannot meet his commitment?"
      ],
      "metadata": {
        "id": "wq93gOXIBif-"
      }
    },
    {
      "cell_type": "code",
      "source": [
        "# As manager plans to have work begin on the transmission of a customer’s car 10 minutes after the car is dropped off it will take 10 more min thn usuall time\n",
        "# which will 45+10 =55\n"
      ],
      "metadata": {
        "id": "fkM1F8HhAbKs"
      },
      "execution_count": null,
      "outputs": []
    },
    {
      "cell_type": "code",
      "source": [
        "n_time=55\n",
        "std=8\n",
        "prob=stats.norm.sf(60,loc=n_time,scale=std) ## sf=Servival function\n",
        "print(\"probability that the service manager cannot meet his commitment\",np.round(prob*100,5))"
      ],
      "metadata": {
        "colab": {
          "base_uri": "https://localhost:8080/"
        },
        "id": "RvQZvKb7AbOF",
        "outputId": "df71bf34-8075-488b-f960-07489ddffa15"
      },
      "execution_count": null,
      "outputs": [
        {
          "output_type": "stream",
          "name": "stdout",
          "text": [
            "probability that the service manager cannot meet his commitment 26.59855\n"
          ]
        }
      ]
    },
    {
      "cell_type": "markdown",
      "source": [
        "Q2.\tThe current age (in years) of 400 clerical employees at an insurance claims processing center is normally distributed with mean  = 38 and Standard deviation  =6. For each statement below, please specify True/False. If false, briefly explain why.\n",
        "\n",
        "\n",
        "A.\tMore employees at the processing center are older than 44 than between 38 and 44.\n",
        "\n",
        "\n",
        "B.\tA training program for employees under the age of 30 at the center would be expected to attract about 36 employees.\n",
        "\n"
      ],
      "metadata": {
        "id": "He40fRzyD-ah"
      }
    },
    {
      "cell_type": "code",
      "source": [
        "mean=38\n",
        "std=6"
      ],
      "metadata": {
        "id": "4zhi1p5eDjUA"
      },
      "execution_count": null,
      "outputs": []
    },
    {
      "cell_type": "code",
      "source": [
        "## first we will find individuals which is greater than 38 and less than 44 and substracting both to get the percentage betn\n",
        "a_grt_38=np.round(1-stats.norm.cdf(38,loc=mean,scale=std),3)\n",
        "\n",
        "a_less_44=np.round(stats.norm.cdf(44,loc=mean,scale=std),3)"
      ],
      "metadata": {
        "id": "m4wLc4qNmTui"
      },
      "execution_count": null,
      "outputs": []
    },
    {
      "cell_type": "code",
      "source": [
        "betn_38_and_44=(a_less_44-a_grt_38)\n",
        "print(\"More employees at the processing center between 38 and 44 is:\",np.round(betn_38_and_44*100,4),\"%\")"
      ],
      "metadata": {
        "colab": {
          "base_uri": "https://localhost:8080/"
        },
        "id": "pizo3n59oFTo",
        "outputId": "99348d75-6aeb-45d9-9026-6675eb59d752"
      },
      "execution_count": null,
      "outputs": [
        {
          "output_type": "stream",
          "name": "stdout",
          "text": [
            "More employees at the processing center between 38 and 44 is: 34.1 %\n"
          ]
        }
      ]
    },
    {
      "cell_type": "code",
      "source": [
        "## Now finding the probality of employees at the processing center are older than 44\n",
        "\n",
        "emp_older_44=1-stats.norm.cdf(44,loc=mean,scale=std)\n",
        "print(\" More employees at the processing center are older than 44 is :\",np.round(emp_older_44*100,2),\"%\")"
      ],
      "metadata": {
        "colab": {
          "base_uri": "https://localhost:8080/"
        },
        "id": "iLWOxP1moaX1",
        "outputId": "fd78e0a6-5af8-49b4-d918-f55666f10cf2"
      },
      "execution_count": null,
      "outputs": [
        {
          "output_type": "stream",
          "name": "stdout",
          "text": [
            " More employees at the processing center are older than 44 is : 15.87 %\n"
          ]
        }
      ]
    },
    {
      "cell_type": "code",
      "source": [
        "T_or_f=(emp_older_44>betn_38_and_44)\n",
        "print(\"outcome:\",T_or_f)"
      ],
      "metadata": {
        "colab": {
          "base_uri": "https://localhost:8080/"
        },
        "id": "pshCdNOeqB5b",
        "outputId": "24d54c41-92aa-40ed-b3de-8a4daddd131e"
      },
      "execution_count": null,
      "outputs": [
        {
          "output_type": "stream",
          "name": "stdout",
          "text": [
            "outcome: False\n"
          ]
        }
      ]
    },
    {
      "cell_type": "markdown",
      "source": [
        "**Answer 2-a**:As we can clearly see above that the probability for employees at the processing center are more between 38 and 44 than older than 44 which give us the outcome as **False**."
      ],
      "metadata": {
        "id": "d5igLABpsi3r"
      }
    },
    {
      "cell_type": "code",
      "source": [
        "## Now, employees under the age of 30 at the center\n",
        "\n",
        "under_30=stats.norm.cdf(30,loc=mean,scale=std)\n",
        "print(\"Employees under the age of 30 at the center are:\",np.round(under_30*400,2))"
      ],
      "metadata": {
        "colab": {
          "base_uri": "https://localhost:8080/"
        },
        "id": "sPpFME3YqB7s",
        "outputId": "3a25b573-c1d1-43fe-a016-ee469ca725aa"
      },
      "execution_count": null,
      "outputs": [
        {
          "output_type": "stream",
          "name": "stdout",
          "text": [
            "Employees under the age of 30 at the center are: 36.48\n"
          ]
        }
      ]
    },
    {
      "cell_type": "markdown",
      "source": [
        "**Answer** 2-b - By calculating it give outcome as give in the statement **True**"
      ],
      "metadata": {
        "id": "OngQzMiDuO_L"
      }
    },
    {
      "cell_type": "markdown",
      "source": [
        "**Q3**.If X1 ~ N(μ, σ2) and X2 ~ N(μ, σ2) are iid normal random variables, then what is the difference between 2 X1 and X1 + X2? Discuss both their distributions and parameters.       "
      ],
      "metadata": {
        "id": "6yTDumuKu6L5"
      }
    },
    {
      "cell_type": "markdown",
      "source": [
        "**Answer**: When we multiply a normal random variable by a constant, then variable also follows a normal distribution. In this case, the mean becomes 2 mue and the variance becomes 4 sigma squre. This means 2X1 will have a normal distribution with a shifted mean (twice the original) and a scaled variance.\n",
        "\n",
        "\n",
        "The sum of two independent normal random variables is also a normal random variable. The mean of the sum is the sum of the individual means, and the variance is the sum of the individual variances. Therefore, X1 + X2 will have a normal distribution with mean 2mue and variance 2sigma square."
      ],
      "metadata": {
        "id": "hqMF75Sw7E38"
      }
    },
    {
      "cell_type": "markdown",
      "source": [
        "**Q4.**Let X ~ N(100, 20^2). Find two values, a and b, symmetric about the mean, such that the probability of the random variable taking a value between them is 0.99.\n",
        "\n",
        "A.\t90.5, 105.9\n",
        "B.\t80.2, 119.8\n",
        "C.\t22, 78\n",
        "D.\t48.5, 151.5\n",
        "E.\t90.1, 109.9\n"
      ],
      "metadata": {
        "id": "SRMUpxFo8Nxq"
      }
    },
    {
      "cell_type": "code",
      "source": [
        "print(\"two values, a and b, symmetric about the mean are:\", np.round(stats.norm.interval(0.99,loc=100,scale=20),3))"
      ],
      "metadata": {
        "colab": {
          "base_uri": "https://localhost:8080/"
        },
        "id": "vFVVfFghumfY",
        "outputId": "bcc81f46-8a9e-4c9d-db5d-f87e2d5cf460"
      },
      "execution_count": null,
      "outputs": [
        {
          "output_type": "stream",
          "name": "stdout",
          "text": [
            "two values, a and b, symmetric about the mean are: [ 48.483 151.517]\n"
          ]
        }
      ]
    },
    {
      "cell_type": "markdown",
      "source": [
        "**Answer**: so the correct  is D- 48.5, 151.5\n",
        "\n"
      ],
      "metadata": {
        "id": "JFviZHaj-OmW"
      }
    },
    {
      "cell_type": "markdown",
      "source": [
        "Q5.\tConsider a company that has two different divisions. The annual profits from the two divisions are independent and have distributions Profit1 ~ N(5, 32) and Profit2 ~ N(7, 42) respectively. Both the profits are in $ Million. Answer the following questions about the total profit of the company in Rupees. Assume that $1 = Rs. 45\n",
        "\n",
        "A.\tSpecify a Rupee range (centered on the mean) such that it contains 95% probability for the annual profit of the company.\n",
        "B.\tSpecify the 5th percentile of profit (in Rupees) for the company\n",
        "C.\tWhich of the two divisions has a larger probability of making a loss in a given year?\n"
      ],
      "metadata": {
        "id": "5pq3bcQg-fNV"
      }
    },
    {
      "cell_type": "code",
      "source": [
        "# combining the mean of both the entities\n",
        "mean=(5+7)*45\n",
        "print(mean,\"Million INR\")"
      ],
      "metadata": {
        "colab": {
          "base_uri": "https://localhost:8080/"
        },
        "id": "Whr8hkru-dYS",
        "outputId": "16d6a738-b575-4eee-9049-058854e959f7"
      },
      "execution_count": null,
      "outputs": [
        {
          "output_type": "stream",
          "name": "stdout",
          "text": [
            "540 Million INR\n"
          ]
        }
      ]
    },
    {
      "cell_type": "code",
      "source": [
        "## Now comnining the std deviation\n",
        "\n",
        "SD=np.sqrt((3**2)+(4**2))\n",
        "print(SD*45,\"Million INR\")"
      ],
      "metadata": {
        "colab": {
          "base_uri": "https://localhost:8080/"
        },
        "id": "1LCZRknkEv9t",
        "outputId": "2423ad89-ef10-4173-8039-09017d2ed469"
      },
      "execution_count": null,
      "outputs": [
        {
          "output_type": "stream",
          "name": "stdout",
          "text": [
            "225.0 Million INR\n"
          ]
        }
      ]
    },
    {
      "cell_type": "markdown",
      "source": [
        "A. Specify a Rupee range (centered on the mean) such that it contains 95% probability for the annual profit of the company. \\"
      ],
      "metadata": {
        "id": "0cSn2_85QKpa"
      }
    },
    {
      "cell_type": "code",
      "source": [
        "print(\"range  is\",np.round(stats.norm.interval(0.95,loc=540,scale=225),2),\"Million INR\")"
      ],
      "metadata": {
        "colab": {
          "base_uri": "https://localhost:8080/"
        },
        "id": "0STMj4EEQMNB",
        "outputId": "81f01249-0075-47ce-e275-86080c2c68ae"
      },
      "execution_count": null,
      "outputs": [
        {
          "output_type": "stream",
          "name": "stdout",
          "text": [
            "range  is [ 99.01 980.99] Million INR\n"
          ]
        }
      ]
    },
    {
      "cell_type": "markdown",
      "source": [
        "B.\tSpecify the 5th percentile of profit (in Rupees) for the company"
      ],
      "metadata": {
        "id": "9zvZ69l4umi1"
      }
    },
    {
      "cell_type": "code",
      "source": [
        "## We will use  X=μ + Zσ\n",
        "\n",
        "x=540+(-1.645)*(225) # z value for 5th percentile is -1.645\n",
        "print(\" 5th percentile of profit (in million INR) for the company are\",np.round(x,))"
      ],
      "metadata": {
        "colab": {
          "base_uri": "https://localhost:8080/"
        },
        "id": "j3jfKoALQ9jh",
        "outputId": "e1d5bc9a-a5cd-4d99-d787-9187cd24a11e"
      },
      "execution_count": null,
      "outputs": [
        {
          "output_type": "stream",
          "name": "stdout",
          "text": [
            " 5th percentile of profit (in million INR) for the company are 170.0\n"
          ]
        }
      ]
    },
    {
      "cell_type": "markdown",
      "source": [
        "C. Which of the two divisions has a larger probability of making a loss in a given year?\n"
      ],
      "metadata": {
        "id": "8hWFV4xKx-ll"
      }
    },
    {
      "cell_type": "code",
      "source": [
        "# Checking the probablity X<0\n",
        "P_loss1=stats.norm.cdf(0,loc=5,scale=3)\n",
        "print(\"Probaility of 1st division making loss is \",P_loss1*100)"
      ],
      "metadata": {
        "colab": {
          "base_uri": "https://localhost:8080/"
        },
        "id": "vlYwD0lJQ9o8",
        "outputId": "69137d55-474f-44dc-d2d0-8078de694f76"
      },
      "execution_count": null,
      "outputs": [
        {
          "output_type": "stream",
          "name": "stdout",
          "text": [
            "Probaility of 1st division making loss is  4.7790352272814705\n"
          ]
        }
      ]
    },
    {
      "cell_type": "code",
      "source": [
        "P_loss2=stats.norm.cdf(0,loc=7,scale=4)\n",
        "print(\"Probability of division 2 making loss is\",P_loss2*100)"
      ],
      "metadata": {
        "colab": {
          "base_uri": "https://localhost:8080/"
        },
        "id": "Gk6Qw2heyZk0",
        "outputId": "844f0212-35f0-45e2-b40b-91412fa950ef"
      },
      "execution_count": null,
      "outputs": [
        {
          "output_type": "stream",
          "name": "stdout",
          "text": [
            "Probability of division 2 making loss is 4.005915686381709\n"
          ]
        }
      ]
    },
    {
      "cell_type": "code",
      "source": [
        "## Hence we can conclude with the above calculations that probability of loss is slightly more in division 1 than in division 2."
      ],
      "metadata": {
        "id": "ix79u3TEypJQ"
      },
      "execution_count": null,
      "outputs": []
    },
    {
      "cell_type": "markdown",
      "source": [
        "# **Assignment 2-Set 3**"
      ],
      "metadata": {
        "id": "jU9YEDwi6OBu"
      }
    },
    {
      "cell_type": "markdown",
      "source": [
        " Q5.\tIn January 2005, a company that monitors Internet traffic (WebSideStory) reported that its sampling revealed that the Mozilla Firefox browser launched in 2004 had grabbed a 4.6% share of the market.\n",
        "\n",
        " I.\tIf the sample were based on 2,000 users, could Microsoft conclude that Mozilla has a less than 5% share of the market?"
      ],
      "metadata": {
        "id": "8fYzR8ClTvZc"
      }
    },
    {
      "cell_type": "code",
      "source": [
        "#p * (1 - p) / n\n",
        "std=np.sqrt((0.05)*(1-0.05)/(2000))\n"
      ],
      "metadata": {
        "id": "E571Mltt6UkM"
      },
      "execution_count": null,
      "outputs": []
    },
    {
      "cell_type": "code",
      "source": [
        "# We are using one-Sample One-Tail z-test\n",
        "\n",
        "# Assume the null hypothsis h0= P value> apha value\n",
        "# Assume the alternative hypothisi ha= P value< alpha value\n",
        "\n",
        "#z = (x - μ) / σ\n",
        "z_value=(0.046-0.05)/(std)\n",
        "z_value"
      ],
      "metadata": {
        "colab": {
          "base_uri": "https://localhost:8080/"
        },
        "id": "pqRl8NOw6Umt",
        "outputId": "c927763c-1647-4485-ec39-9aa0d5a3101d"
      },
      "execution_count": null,
      "outputs": [
        {
          "output_type": "execute_result",
          "data": {
            "text/plain": [
              "-0.820782681668124"
            ]
          },
          "metadata": {},
          "execution_count": 7
        }
      ]
    },
    {
      "cell_type": "code",
      "source": [
        "P_value=1-stats.norm.cdf(abs(z_value))\n",
        "P_value"
      ],
      "metadata": {
        "colab": {
          "base_uri": "https://localhost:8080/"
        },
        "id": "L-oPj2XYXTfR",
        "outputId": "4c2f2020-7370-4587-fb85-dbad878885b5"
      },
      "execution_count": null,
      "outputs": [
        {
          "output_type": "execute_result",
          "data": {
            "text/plain": [
              "0.20588503245107104"
            ]
          },
          "metadata": {},
          "execution_count": 12
        }
      ]
    },
    {
      "cell_type": "markdown",
      "source": [
        "**As the P value is greater than alpha value (0.205>0.05)With the above result we can conclude the we accept the null hypothesis which means that Microsoft cannot conclude that Mozilla has a less than 5% share of the market.**"
      ],
      "metadata": {
        "id": "nmV8rx16Zz2l"
      }
    },
    {
      "cell_type": "markdown",
      "source": [
        "Q8.a\tHow many randomly selected employers (minimum number) must we contact in order to guarantee a margin of error of no more than 4% (at 95% confidence)?\n",
        "\n"
      ],
      "metadata": {
        "id": "Fo12XwQQEJyb"
      }
    },
    {
      "cell_type": "code",
      "source": [
        "## TO calculate the we will use the Margin of error\n",
        "#ME = Z * √(std) / n , z value for 95% Confidence is 1.96, assuming Variance=50 n=4\n",
        "\n",
        "ME= ((1.96**2)*(0.5**2))/0.04**2\n",
        "ME"
      ],
      "metadata": {
        "colab": {
          "base_uri": "https://localhost:8080/"
        },
        "id": "kbHePT_2asY7",
        "outputId": "4847d06b-63e7-48ec-d35a-e32c226ebbba"
      },
      "execution_count": null,
      "outputs": [
        {
          "output_type": "execute_result",
          "data": {
            "text/plain": [
              "600.2499999999999"
            ]
          },
          "metadata": {},
          "execution_count": 25
        }
      ]
    },
    {
      "cell_type": "markdown",
      "source": [
        "Answer: Q9-Therefore, randomly selected employers (minimum number) must we contacted in order to guarantee a margin of error of no more than 4% (at 95% confidence."
      ],
      "metadata": {
        "id": "aW_QRqmxG-d1"
      }
    },
    {
      "cell_type": "code",
      "source": [
        "#ME = Z * √(std) / n , z value for 98% Confidence is 2.326, assuming std=50 n=4\n",
        "me=((2.326**2)*(0.5**2))/0.04**2\n",
        "me"
      ],
      "metadata": {
        "colab": {
          "base_uri": "https://localhost:8080/"
        },
        "id": "YuRsrMUuHBDT",
        "outputId": "3ecbdd25-ff04-408a-fb53-d56ffba34ec8"
      },
      "execution_count": null,
      "outputs": [
        {
          "output_type": "execute_result",
          "data": {
            "text/plain": [
              "845.355625"
            ]
          },
          "metadata": {},
          "execution_count": 31
        }
      ]
    },
    {
      "cell_type": "markdown",
      "source": [
        "Answer: Q9 Therefore margin of error to be based on a 98% confidence level will be answer c- 845 approx 848."
      ],
      "metadata": {
        "id": "2QYiJ1vjH6BT"
      }
    },
    {
      "cell_type": "markdown",
      "source": [
        "#**Assignment 2-Set 4**"
      ],
      "metadata": {
        "id": "A47ZRh_vQSUF"
      }
    },
    {
      "cell_type": "markdown",
      "source": [
        "Q3- Auditors at a small community bank randomly sample 100 withdrawal transactions made during the week at an ATM machine located near the bank’s main branch. Over the past 2 years, the average withdrawal amount has been 50 USD with a standard deviation of 40 USD. Since audit investigations are typically expensive, the auditors decide to not initiate further investigations if the mean transaction amount of the sample is between 45 USD and 55 USD. What is the probability that in any given week, there will be an investigation?\n",
        "\n",
        "A.\t1.25%\n",
        "B.\t2.5%\n",
        "C.\t10.55%\n",
        "D.\t21.1%\n",
        "E.\t50%\n"
      ],
      "metadata": {
        "id": "4WXeD4HfRITw"
      }
    },
    {
      "cell_type": "code",
      "source": [
        "# Pop_mean=50 usd , Samp_std=40 usd , n=100\n",
        "\n",
        "# calculating the t value = (sample mean-population mean)/(sample_std/(n_sample))\n",
        "# calculating for tvalue for 45 USD\n",
        "t_45=(45-50)/(40/np.sqrt(100))\n",
        "t_45"
      ],
      "metadata": {
        "colab": {
          "base_uri": "https://localhost:8080/"
        },
        "id": "0eCF_-TMQRq0",
        "outputId": "770d91fd-fc47-492e-ed8f-58310b7a29b2"
      },
      "execution_count": null,
      "outputs": [
        {
          "output_type": "execute_result",
          "data": {
            "text/plain": [
              "-1.25"
            ]
          },
          "metadata": {},
          "execution_count": 5
        }
      ]
    },
    {
      "cell_type": "code",
      "source": [
        "# calculating for tvalue for 55 USD\n",
        "\n",
        "t_55=(55-50)/(40/np.sqrt(100))\n",
        "t_55"
      ],
      "metadata": {
        "colab": {
          "base_uri": "https://localhost:8080/"
        },
        "id": "IX3b55hKQRuQ",
        "outputId": "9c01d138-eedf-47cc-abba-f1010ad883ec"
      },
      "execution_count": null,
      "outputs": [
        {
          "output_type": "execute_result",
          "data": {
            "text/plain": [
              "1.25"
            ]
          },
          "metadata": {},
          "execution_count": 4
        }
      ]
    },
    {
      "cell_type": "code",
      "source": [
        "#we will use t-distribution as the population standard deviation is unknown\n",
        "\n",
        "prob=stats.t.cdf(t_45,df=99)- stats.t.cdf(t_55,df=99)"
      ],
      "metadata": {
        "id": "EHJopBWgYraG"
      },
      "execution_count": null,
      "outputs": []
    },
    {
      "cell_type": "code",
      "source": [
        "print(\" probability that in any given week, there will be an investigation is\",np.round((1-prob)*100,2,),\"%\")"
      ],
      "metadata": {
        "colab": {
          "base_uri": "https://localhost:8080/"
        },
        "id": "H2sMGV-XZAtf",
        "outputId": "d1864b4f-9b61-4876-8785-8d04f83b01a9"
      },
      "execution_count": null,
      "outputs": [
        {
          "output_type": "stream",
          "name": "stdout",
          "text": [
            " probability that in any given week, there will be an investigation is 21.42 %\n"
          ]
        }
      ]
    },
    {
      "cell_type": "markdown",
      "source": [
        "Q4 The auditors from the above example would like to maintain the probability of investigation to 5%. Which of the following represents the minimum number transactions that they should sample if they do not want to change the thresholds of 45 and 55? Assume that the sample statistics remain unchanged."
      ],
      "metadata": {
        "id": "IyTfrymEDrur"
      }
    }
  ]
}